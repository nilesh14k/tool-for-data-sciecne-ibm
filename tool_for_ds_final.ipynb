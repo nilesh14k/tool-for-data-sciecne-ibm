{
 "cells": [
  {
   "cell_type": "markdown",
   "id": "b6554e5c-e5e4-4d65-a778-f80cd9c68da2",
   "metadata": {},
   "source": [
    "<h1>My Jupyter Notebook on IBM Watson Studio</h1>"
   ]
  },
  {
   "cell_type": "markdown",
   "id": "e8c90467-55fa-4d3d-af17-5b81e14e20b8",
   "metadata": {},
   "source": [
    "**NILESH KUMAR**\n",
    "\n",
    "Data Scientist"
   ]
  },
  {
   "cell_type": "markdown",
   "id": "e2a81ed4-4db1-4e8e-84f1-acaa0c9c778d",
   "metadata": {},
   "source": [
    "_I am interested in data science because, At its core, studying data science lets you become a data-driven thinker — not only in your job but in other spheres as well. As a data scientist, you'll be making informed findings from abundant amounts of information from diverse sources. This job profile helps you make educated analysis in every role you perform._"
   ]
  },
  {
   "cell_type": "markdown",
   "id": "6a79d4d6-aea5-40f8-b02c-61ea0c329961",
   "metadata": {},
   "source": [
    "<h3>The below cell is printing the word IBM, using ascii letters.</h3>"
   ]
  },
  {
   "cell_type": "code",
   "execution_count": 7,
   "id": "07275c92-cdbe-49a7-aa01-a9a6f926adee",
   "metadata": {},
   "outputs": [
    {
     "name": "stdout",
     "output_type": "stream",
     "text": [
      "\n",
      ".----------------.   .----------------.   .----------------. \n",
      "| .--------------. | | .--------------. | | .--------------. |\n",
      "| |     _____    | | | |   ______     | | | | ____    ____ | |\n",
      "| |    |_   _|   | | | |  |_   _ \\    | | | ||_   \\  /   _|| |\n",
      "| |      | |     | | | |    | |_) |   | | | |  |   \\/   |  | |\n",
      "| |      | |     | | | |    |  __'.   | | | |  | |\\  /| |  | |\n",
      "| |     _| |_    | | | |   _| |__) |  | | | | _| |_\\/_| |_ | |\n",
      "| |    |_____|   | | | |  |_______/   | | | ||_____||_____|| |\n",
      "| |              | | | |              | | | |              | |\n",
      "| '--------------' | | '--------------' | | '--------------' |\n",
      " '----------------'   '----------------'   '----------------' \n",
      "\n",
      "                    \n"
     ]
    }
   ],
   "source": [
    "print(\"\"\"\\\n",
    "\n",
    ".----------------.   .----------------.   .----------------. \n",
    "| .--------------. | | .--------------. | | .--------------. |\n",
    "| |     _____    | | | |   ______     | | | | ____    ____ | |\n",
    "| |    |_   _|   | | | |  |_   _ \\    | | | ||_   \\  /   _|| |\n",
    "| |      | |     | | | |    | |_) |   | | | |  |   \\/   |  | |\n",
    "| |      | |     | | | |    |  __'.   | | | |  | |\\  /| |  | |\n",
    "| |     _| |_    | | | |   _| |__) |  | | | | _| |_\\/_| |_ | |\n",
    "| |    |_____|   | | | |  |_______/   | | | ||_____||_____|| |\n",
    "| |              | | | |              | | | |              | |\n",
    "| '--------------' | | '--------------' | | '--------------' |\n",
    " '----------------'   '----------------'   '----------------' \n",
    "\n",
    "                    \"\"\")"
   ]
  },
  {
   "cell_type": "markdown",
   "id": "c6b75f89-c9b1-4464-9243-47be613ec59e",
   "metadata": {},
   "source": [
    "<hr>\n",
    "<b>Bullet Points</b>\n",
    "<ul>\n",
    "  <li></li>\n",
    "  <li></li>\n",
    "  <li></li>\n",
    "</ul>\n",
    "<hr>\n",
    "<b>Numbered List</b>\n",
    "<ol>\n",
    "  <li></li>\n",
    "  <li></li>\n",
    "  <li></li>\n",
    "</ol>\n",
    "<hr>\n",
    "<b><center>Tabel:</center></b>\n",
    "<table>\n",
    "<tr>\n",
    "    <td>1</td> \n",
    "    <td>2</td> \n",
    "    <td>3</td>   \n",
    "</tr><tr>\n",
    "    <td>1</td> \n",
    "    <td>2</td> \n",
    "    <td>3</td>   \n",
    "</tr><tr>\n",
    "    <td>1</td> \n",
    "    <td>2</td> \n",
    "    <td>3</td>   \n",
    "</tr><tr>\n",
    "    <td>1</td> \n",
    "    <td>2</td> \n",
    "    <td>3</td>   \n",
    "</tr>\n",
    "</table>\n",
    "<hr>\n",
    "<p><b>Hyperlink---> <a href=\"https://www.ibm.com/\">IBM</a></b></p>\n",
    "<hr>\n",
    "<b>Image</b>\n",
    "<img src=\"https://i.pinimg.com/originals/2a/27/e9/2a27e94204068ef9214ba55ae74b4cde.png\" alt=\"IBM LOGO\"></a>\n",
    "<hr>\n",
    "<b>Syntax Highlighter</b>\n",
    "<div id=\"myDiv\">\n",
    "&lt;!DOCTYPE html&gt;<br>\n",
    "&lt;html&gt;<br>\n",
    "&lt;body&gt;<br>\n",
    "<br>\n",
    "&lt;h1&gt;Testing an HTML Syntax Highlighter&lt;/h2&gt;<br>\n",
    "&lt;p&gt;Hello world!&lt;/p&gt;<br>\n",
    "&lt;a href=\"https://www.ibm.com/\"&gt;Back to School&lt;/a&gt;<br>\n",
    "<br>\n",
    "&lt;/body&gt;<br>\n",
    "&lt;/html&gt;\n",
    "</div>\n",
    "<hr>\n",
    "<b>blockquote</b>\n",
    "<blockquote>this is a blocked quotes</blockquote>\n",
    "<hr>\n",
    "<b>Strikethrough</b>\n",
    "<s>this is striketrhough</s>This is a normal text "
   ]
  }
 ],
 "metadata": {
  "kernelspec": {
   "display_name": "Python 3 (ipykernel)",
   "language": "python",
   "name": "python3"
  },
  "language_info": {
   "codemirror_mode": {
    "name": "ipython",
    "version": 3
   },
   "file_extension": ".py",
   "mimetype": "text/x-python",
   "name": "python",
   "nbconvert_exporter": "python",
   "pygments_lexer": "ipython3",
   "version": "3.9.13"
  }
 },
 "nbformat": 4,
 "nbformat_minor": 5
}
